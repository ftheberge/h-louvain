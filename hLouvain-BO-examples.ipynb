{
 "cells": [
  {
   "cell_type": "code",
   "execution_count": 1,
   "metadata": {},
   "outputs": [
    {
     "data": {
      "text/plain": [
       "'2.1.3'"
      ]
     },
     "execution_count": 1,
     "metadata": {},
     "output_type": "execute_result"
    }
   ],
   "source": [
    "import csv\n",
    "from sklearn.metrics import adjusted_rand_score as ARI\n",
    "from sklearn.metrics import adjusted_mutual_info_score as AMI \n",
    "import hypernetx as hnx\n",
    "import hypernetx.algorithms.hypergraph_modularity as hmod\n",
    "from collections import Counter\n",
    "import igraph as ig\n",
    "import pandas as pd\n",
    "import numpy as np\n",
    "import csv\n",
    "\n",
    "from collections import Counter\n",
    "from scipy.stats import binom \n",
    "from statistics import mean \n",
    "import seaborn as sns\n",
    "import matplotlib.pyplot as plt\n",
    "\n",
    "from h_louvain import hLouvain\n",
    "from h_louvain import last_step\n",
    "\n",
    "hnx.__version__"
   ]
  },
  {
   "cell_type": "markdown",
   "metadata": {},
   "source": [
    "## Visualisation functions"
   ]
  },
  {
   "cell_type": "code",
   "execution_count": 2,
   "metadata": {},
   "outputs": [],
   "source": [
    "def edge_statistics(edges_file):\n",
    "    with open(edges_file,\"r\") as f:\n",
    "        rd = csv.reader(f)\n",
    "        lines = list(rd)\n",
    "    Edges = []\n",
    "    for line in lines:\n",
    "        Edges.append(set(line))\n",
    "    sizes = [len(Edges[i]) for i in range(len(Edges))]\n",
    "    ctr_sizes = Counter(sizes)\n",
    "    print(\"EDGE STATISTICS:\")\n",
    "    print(\"Mean size:\",mean(sizes))\n",
    "    print(\"Sizes counter:\",dict(ctr_sizes))\n",
    "    df = pd.DataFrame(sizes)\n",
    "    df.columns = ['size']\n",
    "    plt.figure(figsize=(9,4))\n",
    "    sns.countplot(x = \"size\", data = df)\n",
    "    plt.show()\n",
    "\n",
    "def comm_statistics(comm_file):\n",
    "    with open(comm_file, 'r') as file:\n",
    "        gt = [int(line) for line in file]\n",
    "        A_gt = [x for x in hmod.dict2part({str(i+1):gt[i] for i in range(len(gt))}) if len(x)>0]\n",
    "\n",
    "    print(\"COMMUNITIES STATISTICS:\")\n",
    "    community_sizes = [len(A_gt[i]) for i in range(len(A_gt))]\n",
    "    print(\"Number of communities\", len(A_gt))\n",
    "    print(\"Mean size:\", mean(community_sizes), \"min size:\", min(community_sizes), \"max size:\", max(community_sizes) )\n",
    "    print(\"Sizes\", community_sizes)\n",
    "    \n",
    "    \n",
    "def edges_in_ground_truth_community(edge_file,partitions, show_aggr = 1, show_edge_sizes = 'all', edge_sizes_to_show = {}):\n",
    "    print(\"\")\n",
    "    print(\"EDGES IN A GROUND-TRUTH COMMUNITY\")\n",
    "    with open(comm_file, 'r') as file:\n",
    "        gt = [int(line) for line in file]\n",
    "        A_gt = [x for x in hmod.dict2part({str(i+1):gt[i] for i in range(len(gt))}) if len(x)>0]\n",
    "    with open(edge_file,\"r\") as f:\n",
    "        rd = csv.reader(f)\n",
    "        lines = list(rd)\n",
    "    Edges = []\n",
    "    for line in lines:\n",
    "        Edges.append(set(line))\n",
    "\n",
    "    edge_comm = []    \n",
    "    for e in Edges:\n",
    "        size = len(e)\n",
    "        biggest = Counter([gt[int(i)-1] for i in e]).most_common(1)[0][1]\n",
    "        edge_comm.append({'size': size, 'biggest': biggest, 'ratio': biggest/size})\n",
    "\n",
    "\n",
    "    to_display = {}\n",
    "    to_display[\"lambda\"] = []\n",
    "    xs = np.linspace(0.501,1, 500)\n",
    "    for x in xs:\n",
    "        to_display[\"lambda\"].append(x)\n",
    "        \n",
    "    if show_aggr == 1:\n",
    "        to_display[\"aggr\"] = []\n",
    "    edges2show = []\n",
    "        \n",
    "    if show_edge_sizes == 'all':\n",
    "        edges2show = list(set([len(e) for e in Edges]))\n",
    "    else:\n",
    "        edges2show = list(edge_sizes_to_show)  \n",
    "        \n",
    "    edges2show = sorted(edges2show)\n",
    "        \n",
    "        \n",
    "    for i in edges2show:\n",
    "        to_display[i] = []\n",
    "\n",
    "    for x in xs:\n",
    "        to_display[\"aggr\"].append(sum(list(a[\"ratio\"]>=x for a in edge_comm)))\n",
    "\n",
    "    for i in edges2show:\n",
    "        for x in xs:\n",
    "            to_display[i].append(sum(list(a[\"ratio\"]>=x and a[\"size\"]==i for a in edge_comm)))\n",
    "\n",
    "    plt.figure(figsize=(9,5))\n",
    "    plt.ylim(0, to_display[\"aggr\"][0]+50)\n",
    "    \n",
    "    plt.title(\"Number of edges captured by the partition\")\n",
    "    plt.xlabel(\"Percentage of nodes in the edge\")\n",
    "    plt.ylabel(\"Number of edges\")\n",
    "    df = pd.DataFrame(to_display)  \n",
    "    if show_aggr == 1:\n",
    "        sns.lineplot(data=df, x = \"lambda\", y = \"aggr\", label = \"all sizes\")\n",
    "    \n",
    "    for i in edges2show:\n",
    "        sns.lineplot(data=df, x = \"lambda\", y = i, label = \"size \"+str(i))\n",
    "        \n",
    "    plt.show()\n",
    "    return df, edge_comm\n",
    "\n",
    "\n",
    "\n",
    "    \n",
    "    \n",
    "    #return 0\n",
    "    \n",
    "def visualise_case(edge_file,comm_file, show_aggr = 1, show_edge_sizes = 'all', edge_sizes_to_show = {}):\n",
    "    edge_statistics(edge_file)\n",
    "    comm_statistics(comm_file)\n",
    "    df = edges_in_ground_truth_community(edge_file,comm_file, show_aggr=show_aggr,\n",
    "                           show_edge_sizes = show_edge_sizes, edge_sizes_to_show = edge_sizes_to_show)\n",
    "    return df"
   ]
  },
  {
   "cell_type": "markdown",
   "metadata": {},
   "source": [
    "## Loading the graph"
   ]
  },
  {
   "cell_type": "code",
   "execution_count": 14,
   "metadata": {},
   "outputs": [],
   "source": [
    "def load_ABCDH_from_file(filename):\n",
    "    with open(filename,\"r\") as f:\n",
    "        rd = csv.reader(f)\n",
    "        lines = list(rd)\n",
    "    Edges = []\n",
    "    for line in lines:\n",
    "        Edges.append(list(line))\n",
    "\n",
    "    HG = hnx.Hypergraph(dict(enumerate(Edges)))\n",
    "    return HG"
   ]
  },
  {
   "cell_type": "code",
   "execution_count": 15,
   "metadata": {},
   "outputs": [],
   "source": [
    "HG = load_ABCDH_from_file(\"datasets/hg-linear_he.txt\")"
   ]
  },
  {
   "cell_type": "code",
   "execution_count": 16,
   "metadata": {
    "scrolled": false
   },
   "outputs": [
    {
     "name": "stdout",
     "output_type": "stream",
     "text": [
      "\n",
      "EDGE STATISTICS:\n",
      "Mean size: 2.641053787047201\n",
      "Sizes counter: {2: 515, 3: 245, 4: 114, 5: 37}\n"
     ]
    },
    {
     "data": {
      "image/png": "[encoded data removed]",
      "text/plain": [
       "<Figure size 900x400 with 1 Axes>"
      ]
     },
     "metadata": {},
     "output_type": "display_data"
    },
    {
     "name": "stdout",
     "output_type": "stream",
     "text": [
      "COMMUNITIES STATISTICS:\n",
      "Number of communities 18\n",
      "Mean size: 16.666666666666668 min size: 10 max size: 28\n",
      "Sizes [28, 25, 25, 22, 22, 19, 18, 15, 15, 14, 14, 14, 13, 12, 12, 11, 11, 10]\n",
      "\n",
      "EDGES IN A GROUND-TRUTH COMMUNITY\n"
     ]
    },
    {
     "data": {
      "image/png": "[encoded data removed]",
      "text/plain": [
       "<Figure size 900x500 with 1 Axes>"
      ]
     },
     "metadata": {},
     "output_type": "display_data"
    }
   ],
   "source": [
    "comm_file = \"datasets/hg-linear_assign.txt\"\n",
    "edge_file = \"datasets/hg-linear_he.txt\"\n",
    "\n",
    "print(\"\")\n",
    "df = visualise_case(edge_file,comm_file)"
   ]
  },
  {
   "cell_type": "markdown",
   "metadata": {},
   "source": [
    "## Examples o usage"
   ]
  },
  {
   "cell_type": "code",
   "execution_count": 17,
   "metadata": {},
   "outputs": [],
   "source": [
    "import h_louvain as hl\n",
    "from h_louvain import last_step\n",
    "from h_louvain_BO import hLouvainBO"
   ]
  },
  {
   "cell_type": "code",
   "execution_count": 18,
   "metadata": {},
   "outputs": [],
   "source": [
    "hL = hl.hLouvain(HG,hmod_type=hmod.linear, \n",
    "                                    delta_it = 0.0001, \n",
    "                                    delta_phase = 0.0001, \n",
    "                                    random_seed = 5673) "
   ]
  },
  {
   "cell_type": "markdown",
   "metadata": {},
   "source": [
    "### hLouvain without last steps (any)"
   ]
  },
  {
   "cell_type": "code",
   "execution_count": 21,
   "metadata": {},
   "outputs": [
    {
     "name": "stdout",
     "output_type": "stream",
     "text": [
      "alphas [0.0, 0.8, 0.96, 0.992, 0.9984, 0.99968, 0.999936, 0.9999872, 0.99999744, 0.999999488, 0.9999998976, 0.99999997952, 0.999999995904, 0.9999999991808, 0.99999999983616, 0.999999999967232, 0.9999999999934464, 0.9999999999986893, 0.9999999999997379, 0.9999999999999476, 0.9999999999999896, 0.9999999999999979, 0.9999999999999996, 0.9999999999999999, 1.0, 1.0, 1.0, 1.0, 1.0, 1.0]\n",
      "alphas_out [0.0, 0.8, 0.96]\n",
      "partition [{'238', '211', '74', '190', '297', '179', '80', '276', '43', '93', '103', '50', '284', '66', '241', '149', '57', '169', '213'}, {'98', '106', '138', '157', '178', '267', '23', '208', '86', '115', '164', '132', '257', '146', '214', '30', '273', '289', '42', '279', '184', '107'}, {'242', '1', '181', '153', '194', '282', '248', '54', '17', '218', '150', '11', '25'}, {'5', '139', '295', '278', '219', '183', '91', '76', '215', '8', '160', '52', '260', '232', '281', '39', '239'}, {'294', '163', '99', '59', '69', '170', '10', '296', '36', '47', '142'}, {'243', '259', '159', '120', '38', '101', '19', '171', '204', '55', '111', '7', '196'}, {'141', '189', '209', '68', '16', '110', '71', '41', '28', '268', '123', '87', '119', '34', '92', '154', '230', '90', '226', '83', '121', '250', '198', '89', '280', '185'}, {'288', '114', '210', '251', '109', '85', '223', '229', '72', '247', '152', '12', '151', '143', '173', '78', '128', '116', '18', '228', '237', '46', '20', '95', '249', '265', '88', '222'}, {'67', '205', '31', '140', '49', '15', '35', '166', '269', '29', '200', '224', '258', '220', '202', '45', '234', '104', '225', '2', '233', '102', '216', '58', '244', '48', '73', '266', '172', '201'}, {'137', '252', '22', '161', '192', '262', '64', '277', '156', '275'}, {'261', '32', '236', '235', '283', '186', '255', '63', '147', '13', '62', '180', '167', '4', '44', '162', '290', '177', '82', '40'}, {'33', '129', '187', '127', '221', '3', '165', '207', '176'}, {'37', '256', '9', '158', '61', '27', '199', '253', '263', '133', '291', '51', '26', '75', '56', '292', '231', '136'}, {'285', '246', '130', '245', '118', '217', '212', '240', '100', '287', '113', '168', '21', '84'}, {'271', '135', '299', '191', '144', '270', '96', '286', '125', '300', '197', '79', '112', '134', '124', '254', '70', '81', '117', '203', '14', '272', '227', '131', '77', '182', '148', '65'}, {'94', '175', '24', '195', '126', '108', '293', '206', '97', '60', '53', '145', '122', '6', '174', '298', '264', '105', '193', '188', '155', '274'}]\n",
      "gH = 0.5250261929050638\n"
     ]
    }
   ],
   "source": [
    "alphas = []\n",
    "d = 0\n",
    "c = 0.3\n",
    "b = 0.8\n",
    "for i in range(30):\n",
    "    alphas.append(1-((1-b)**i)*(1-d))\n",
    "    \n",
    "print(\"alphas\", alphas)\n",
    "\n",
    "#### No forcing alpha = 1 at the end\n",
    "\n",
    "A, q2, alphas_out = hL.h_louvain_community(alphas = alphas, force_alpha_1 = False,\n",
    "                                                change_mode=\"communities\", change_frequency=c)\n",
    "qH = hL.combined_modularity(A, hmod.linear, 1)\n",
    "\n",
    "print(\"alphas_out\", alphas_out)\n",
    "\n",
    "print(\"partition\",A)\n",
    "print(\"gH =\",qH)"
   ]
  },
  {
   "cell_type": "markdown",
   "metadata": {},
   "source": [
    "### hLouvain with cheap last step (default)"
   ]
  },
  {
   "cell_type": "code",
   "execution_count": 22,
   "metadata": {},
   "outputs": [
    {
     "name": "stdout",
     "output_type": "stream",
     "text": [
      "alphas_out [0.0, 0.8, 0.96, 1]\n",
      "partition [{'238', '211', '74', '190', '297', '179', '80', '276', '43', '93', '103', '50', '284', '66', '241', '149', '57', '169', '213'}, {'98', '106', '138', '157', '178', '267', '23', '208', '86', '115', '164', '132', '257', '146', '214', '30', '273', '289', '42', '279', '184', '107'}, {'242', '1', '181', '153', '194', '282', '248', '54', '17', '218', '150', '11', '25'}, {'5', '139', '295', '278', '219', '183', '91', '76', '215', '8', '160', '52', '260', '232', '281', '39', '239'}, {'294', '163', '99', '59', '69', '170', '95', '10', '296', '222', '36', '47', '142'}, {'243', '259', '159', '120', '38', '101', '19', '171', '204', '55', '111', '7', '196'}, {'141', '189', '209', '68', '16', '110', '71', '41', '28', '268', '123', '87', '119', '34', '92', '154', '230', '90', '226', '83', '121', '250', '198', '89', '280', '185'}, {'288', '114', '210', '251', '109', '85', '223', '229', '72', '247', '152', '12', '151', '143', '173', '78', '128', '116', '18', '228', '237', '46', '20', '249', '265', '88'}, {'67', '205', '31', '140', '49', '15', '35', '166', '269', '29', '200', '224', '258', '220', '202', '45', '234', '104', '225', '2', '233', '102', '216', '58', '244', '48', '73', '266', '172', '201'}, {'137', '252', '22', '161', '192', '262', '64', '277', '156', '275'}, {'261', '32', '236', '235', '283', '186', '255', '63', '147', '13', '62', '180', '167', '4', '44', '162', '290', '177', '82', '40'}, {'33', '129', '187', '127', '221', '3', '165', '207', '176'}, {'37', '256', '9', '158', '61', '27', '199', '253', '263', '133', '291', '51', '26', '75', '56', '292', '231', '136'}, {'285', '246', '130', '245', '118', '217', '212', '240', '100', '287', '113', '168', '21', '84'}, {'271', '135', '299', '191', '144', '270', '96', '286', '125', '300', '197', '79', '112', '134', '124', '254', '70', '81', '117', '203', '14', '272', '227', '131', '77', '182', '148', '65'}, {'94', '175', '24', '195', '126', '108', '293', '206', '97', '60', '53', '145', '122', '6', '174', '298', '264', '105', '193', '188', '155', '274'}]\n",
      "gH = 0.5251089032577477\n"
     ]
    }
   ],
   "source": [
    "## default value force_alpha_1 = True\n",
    "\n",
    "A, q2, alphas_out = hL.h_louvain_community(alphas = alphas, \n",
    "                                                change_mode=\"communities\", change_frequency=c)\n",
    "qH = hL.combined_modularity(A, hmod.linear, 1)\n",
    "\n",
    "print(\"alphas_out\", alphas_out)\n",
    "\n",
    "print(\"partition\",A)\n",
    "print(\"gH =\",qH)"
   ]
  },
  {
   "cell_type": "code",
   "execution_count": 23,
   "metadata": {},
   "outputs": [
    {
     "name": "stdout",
     "output_type": "stream",
     "text": [
      "alphas_out [0.0, 0.8, 0.96, 1]\n",
      "partition [{'238', '211', '74', '190', '297', '179', '80', '276', '43', '93', '103', '50', '284', '66', '241', '149', '57', '169', '213'}, {'98', '106', '138', '157', '178', '267', '23', '208', '86', '115', '164', '132', '257', '146', '214', '30', '273', '289', '42', '279', '184', '107'}, {'242', '1', '181', '153', '194', '282', '248', '54', '17', '218', '150', '11', '25'}, {'5', '139', '295', '278', '219', '183', '91', '76', '215', '8', '160', '52', '260', '232', '281', '39', '239'}, {'294', '163', '99', '59', '69', '170', '95', '10', '296', '222', '36', '47', '142'}, {'243', '259', '159', '120', '38', '101', '19', '171', '204', '55', '111', '7', '196'}, {'141', '189', '209', '68', '16', '110', '71', '41', '28', '268', '123', '87', '119', '34', '92', '154', '230', '90', '226', '83', '121', '250', '198', '89', '280', '185'}, {'288', '114', '210', '251', '109', '85', '223', '229', '72', '247', '152', '12', '151', '143', '173', '78', '128', '116', '18', '228', '237', '46', '20', '249', '265', '88'}, {'67', '205', '31', '140', '49', '15', '35', '166', '269', '29', '200', '224', '258', '220', '202', '45', '234', '104', '225', '2', '233', '102', '216', '58', '244', '48', '73', '266', '172', '201'}, {'137', '252', '22', '161', '192', '262', '64', '277', '156', '275'}, {'261', '32', '236', '235', '283', '186', '255', '63', '147', '13', '62', '180', '167', '4', '44', '162', '290', '177', '82', '40'}, {'33', '129', '187', '127', '221', '3', '165', '207', '176'}, {'37', '256', '9', '158', '61', '27', '199', '253', '263', '133', '291', '51', '26', '75', '56', '292', '231', '136'}, {'285', '246', '130', '245', '118', '217', '212', '240', '100', '287', '113', '168', '21', '84'}, {'271', '135', '299', '191', '144', '270', '96', '286', '125', '300', '197', '79', '112', '134', '124', '254', '70', '81', '117', '203', '14', '272', '227', '131', '77', '182', '148', '65'}, {'94', '175', '24', '195', '126', '108', '293', '206', '97', '60', '53', '145', '122', '6', '174', '298', '264', '105', '193', '188', '155', '274'}]\n",
      "gH = 0.5251089032577477\n",
      "partition [{'276', '43', '149', '57', '238', '169', '211', '93', '74', '190', '241', '297', '103', '50', '284', '213', '179', '66'}, {'98', '138', '106', '157', '178', '267', '23', '208', '80', '86', '115', '164', '257', '146', '214', '30', '273', '289', '42', '279', '184', '107'}, {'242', '1', '181', '153', '194', '282', '248', '54', '17', '218', '150', '11', '25'}, {'5', '139', '295', '278', '219', '39', '183', '91', '76', '215', '8', '52', '260', '232', '160', '239'}, {'294', '163', '99', '59', '69', '170', '95', '10', '296', '222', '36', '47', '142'}, {'243', '259', '159', '261', '120', '38', '101', '19', '171', '266', '204', '55', '111', '7', '196'}, {'141', '189', '209', '68', '16', '110', '41', '71', '268', '28', '123', '87', '119', '34', '92', '154', '230', '90', '226', '83', '121', '198', '89', '280', '185'}, {'288', '210', '251', '109', '85', '223', '229', '72', '247', '152', '12', '151', '143', '173', '78', '128', '116', '18', '228', '237', '132', '46', '20', '249', '265', '88'}, {'67', '205', '31', '140', '49', '15', '35', '166', '269', '29', '200', '224', '258', '220', '202', '234', '45', '104', '225', '2', '233', '102', '216', '58', '244', '48', '73', '172', '201'}, {'252', '137', '156', '22', '161', '192', '262', '277', '64', '275'}, {'114', '32', '236', '235', '283', '186', '255', '63', '147', '13', '62', '180', '167', '4', '44', '162', '290', '177', '82', '40'}, {'33', '129', '187', '127', '221', '3', '165', '250', '207', '281', '176'}, {'37', '256', '9', '158', '61', '27', '199', '231', '253', '263', '133', '291', '51', '26', '56', '292', '75', '136'}, {'246', '130', '245', '118', '217', '212', '240', '100', '287', '113', '168', '21', '84'}, {'271', '135', '299', '191', '144', '270', '96', '286', '125', '300', '197', '79', '112', '134', '124', '254', '70', '81', '117', '203', '285', '14', '272', '227', '77', '182', '148', '65'}, {'94', '175', '24', '195', '126', '108', '293', '206', '97', '60', '53', '145', '122', '6', '174', '298', '264', '105', '193', '188', '131', '155', '274'}]\n",
      "gH1 = 0.531271771307978\n"
     ]
    }
   ],
   "source": [
    "Als, A, alphas_out = hL.h_louvain_community_plus_last_step(alphas = alphas, \n",
    "                                                change_mode=\"communities\", change_frequency=c)\n",
    "qH = hL.combined_modularity(A, hmod.linear, 1)\n",
    "\n",
    "qH1 = hL.combined_modularity(Als, hmod.linear, 1)\n",
    "\n",
    "print(\"alphas_out\", alphas_out)\n",
    "\n",
    "print(\"partition\",A)\n",
    "print(\"gH =\",qH)\n",
    "\n",
    "print(\"partition\",Als)\n",
    "print(\"gH1 =\",qH1)"
   ]
  },
  {
   "cell_type": "markdown",
   "metadata": {},
   "source": [
    "## hLouvainBO examples"
   ]
  },
  {
   "cell_type": "code",
   "execution_count": 24,
   "metadata": {},
   "outputs": [],
   "source": [
    "hBO = hLouvainBO(HG,hmod_type=hmod.linear, \n",
    "                                    delta_it = 0.0001, \n",
    "                                    delta_phase = 0.0001, \n",
    "                                    random_seed = 8771) "
   ]
  },
  {
   "cell_type": "markdown",
   "metadata": {},
   "source": [
    "### Setting parameters\n",
    "default one:\n",
    "\n",
    "    seeds = [1234,5325,5467,4723,999,989,1245, 432,1904,7633] #number of repetitions in BO function\n",
    "    xi =1e-3,\n",
    "    init_points=5,\n",
    "    n_iter=5,\n",
    "    pbounds = {'b': (0,1), 'c': (0.01,0.99)},\n",
    "    bomode = \"last_step\",  # last step calculated for the best results;;;  other: \"basic\" - without last step, or \"last step all\" - last step calculated for every single calculation\n",
    "    last_step_top_points = 1,   # number of best results for which the expensive last step will be performed\n",
    "    hmod_type = hmod.linear,\n",
    "    show_bo_table = True,\n",
    "    weights = \"standard\",  #if weights are \"custom\" then we can optimize custom modularity weights\n",
    "    custom_weights_array = [],"
   ]
  },
  {
   "cell_type": "code",
   "execution_count": 34,
   "metadata": {},
   "outputs": [
    {
     "name": "stdout",
     "output_type": "stream",
     "text": [
      "|   iter    |  target   |     b     |     c     |\n",
      "-------------------------------------------------\n",
      "| \u001b[0m1        \u001b[0m | \u001b[0m0.5242   \u001b[0m | \u001b[0m0.8434   \u001b[0m | \u001b[0m0.7347   \u001b[0m |\n",
      "| \u001b[0m2        \u001b[0m | \u001b[0m0.5206   \u001b[0m | \u001b[0m0.01308  \u001b[0m | \u001b[0m0.8844   \u001b[0m |\n",
      "| \u001b[0m3        \u001b[0m | \u001b[0m0.5237   \u001b[0m | \u001b[0m0.9026   \u001b[0m | \u001b[0m0.6617   \u001b[0m |\n",
      "| \u001b[95m4        \u001b[0m | \u001b[95m0.5248   \u001b[0m | \u001b[95m0.6366   \u001b[0m | \u001b[95m0.6464   \u001b[0m |\n",
      "| \u001b[95m5        \u001b[0m | \u001b[95m0.5253   \u001b[0m | \u001b[95m0.8828   \u001b[0m | \u001b[95m0.5412   \u001b[0m |\n",
      "| \u001b[0m6        \u001b[0m | \u001b[0m0.5212   \u001b[0m | \u001b[0m0.08125  \u001b[0m | \u001b[0m0.345    \u001b[0m |\n",
      "| \u001b[95m7        \u001b[0m | \u001b[95m0.5256   \u001b[0m | \u001b[95m0.8896   \u001b[0m | \u001b[95m0.5282   \u001b[0m |\n",
      "| \u001b[0m8        \u001b[0m | \u001b[0m0.5252   \u001b[0m | \u001b[0m0.8888   \u001b[0m | \u001b[0m0.5261   \u001b[0m |\n",
      "| \u001b[0m9        \u001b[0m | \u001b[0m0.5247   \u001b[0m | \u001b[0m0.901    \u001b[0m | \u001b[0m0.5406   \u001b[0m |\n",
      "| \u001b[0m10       \u001b[0m | \u001b[0m0.5253   \u001b[0m | \u001b[0m0.8835   \u001b[0m | \u001b[0m0.5423   \u001b[0m |\n",
      "=================================================\n",
      "           b         c  seed #com        qH  \\\n",
      "79  0.888836  0.526122  7633   14  0.531019   \n",
      "\n",
      "                                               alphas  \\\n",
      "79  [0.0, 0.8888358252334136, 0.9876425262484638, ...   \n",
      "\n",
      "                                                    A  \\\n",
      "79  [{37, 256, 9, 158, 61, 27, 199, 253, 263, 133,...   \n",
      "\n",
      "                                              A_lstep  qH_lstep  \n",
      "79  [{37, 256, 9, 158, 61, 27, 199, 231, 253, 263,...  0.533319  \n"
     ]
    }
   ],
   "source": [
    "## setting params: \n",
    "hBO.set_params(bomode=\"last_step\")\n",
    "result_df = hBO.hLouvain_perform_BO()\n",
    "print(result_df)"
   ]
  },
  {
   "cell_type": "code",
   "execution_count": 35,
   "metadata": {},
   "outputs": [
    {
     "name": "stdout",
     "output_type": "stream",
     "text": [
      "           b         c #com        qH  qH_lstep\n",
      "79  0.888836  0.526122   14  0.531019  0.533319\n"
     ]
    }
   ],
   "source": [
    "print(result_df[[\"b\",\"c\",\"#com\",'qH','qH_lstep']])"
   ]
  },
  {
   "cell_type": "code",
   "execution_count": 31,
   "metadata": {},
   "outputs": [
    {
     "name": "stdout",
     "output_type": "stream",
     "text": [
      "|   iter    |  target   |     b     |     c     |\n",
      "-------------------------------------------------\n",
      "| \u001b[0m1        \u001b[0m | \u001b[0m0.5193   \u001b[0m | \u001b[0m0.8434   \u001b[0m | \u001b[0m0.7347   \u001b[0m |\n",
      "| \u001b[95m2        \u001b[0m | \u001b[95m0.5209   \u001b[0m | \u001b[95m0.01308  \u001b[0m | \u001b[95m0.8844   \u001b[0m |\n",
      "| \u001b[0m3        \u001b[0m | \u001b[0m0.5187   \u001b[0m | \u001b[0m0.9026   \u001b[0m | \u001b[0m0.6617   \u001b[0m |\n",
      "| \u001b[95m4        \u001b[0m | \u001b[95m0.5209   \u001b[0m | \u001b[95m0.08125  \u001b[0m | \u001b[95m0.345    \u001b[0m |\n",
      "| \u001b[0m5        \u001b[0m | \u001b[0m0.5198   \u001b[0m | \u001b[0m0.03752  \u001b[0m | \u001b[0m0.6098   \u001b[0m |\n",
      "| \u001b[95m6        \u001b[0m | \u001b[95m0.5237   \u001b[0m | \u001b[95m0.8417   \u001b[0m | \u001b[95m0.2455   \u001b[0m |\n",
      "| \u001b[95m7        \u001b[0m | \u001b[95m0.524    \u001b[0m | \u001b[95m0.8235   \u001b[0m | \u001b[95m0.13     \u001b[0m |\n",
      "| \u001b[95m8        \u001b[0m | \u001b[95m0.5245   \u001b[0m | \u001b[95m0.6825   \u001b[0m | \u001b[95m0.8567   \u001b[0m |\n",
      "=================================================\n",
      "           b         c #com        qH  qH_lstep\n",
      "16  0.841708  0.245537   15  0.529192  0.529709\n",
      "1   0.843394  0.734679   15  0.526464  0.532083\n",
      "23  0.682544  0.856697   15  0.526225  0.530338\n",
      "21  0.682544  0.856697   15  0.526225  0.530199\n",
      "19  0.823533  0.130020   15  0.526170  0.528005\n"
     ]
    }
   ],
   "source": [
    "## other settings\n",
    "\n",
    "hBO.set_params(bomode=\"last_step\", seeds = [1,56,2424], init_points = 3, n_iter = 5, last_step_top_points = 5)\n",
    "result_df2 = hBO.hLouvain_perform_BO()\n",
    "\n",
    "print(result_df2[[\"b\",\"c\",\"#com\",'qH','qH_lstep']])"
   ]
  },
  {
   "cell_type": "markdown",
   "metadata": {},
   "source": [
    "### Checking AMI and ARI"
   ]
  },
  {
   "cell_type": "code",
   "execution_count": 33,
   "metadata": {},
   "outputs": [
    {
     "name": "stdout",
     "output_type": "stream",
     "text": [
      "2-section (ML) (AMI,ARI): (0.8744774822749787, 0.7767230972769239) no of com 14\n"
     ]
    }
   ],
   "source": [
    "def getAMI_ARI(HG,gt,A):\n",
    "    d = hmod.part2dict(A)\n",
    "    A4ari = [d[str(i+1)] for i in range(len(HG.nodes))]\n",
    "    return AMI(gt, A4ari), ARI(gt, A4ari)\n",
    "\n",
    "G = hmod.two_section(HG)\n",
    "G.vs['louvain'] = G.community_multilevel(weights='weight').membership\n",
    "ML = hmod.dict2part({v['name']:v['louvain'] for v in G.vs})\n",
    "\n",
    "with open(comm_file, 'r') as file:\n",
    "    gt = [int(line) for line in file]\n",
    "A_gt = [x for x in hmod.dict2part({str(i+1):gt[i] for i in range(len(gt))}) if len(x)>0]\n",
    "\n",
    "\n",
    "\n",
    "print(\"2-section (ML) (AMI,ARI):\", getAMI_ARI(HG,gt,ML),\"no of com\", len(ML))\n"
   ]
  },
  {
   "cell_type": "markdown",
   "metadata": {},
   "source": [
    "### check for our 2-section"
   ]
  },
  {
   "cell_type": "code",
   "execution_count": 36,
   "metadata": {},
   "outputs": [
    {
     "name": "stdout",
     "output_type": "stream",
     "text": [
      "2-section (ML) (AMI,ARI): (0.8920579673561404, 0.7843660141277056) no of com 14\n"
     ]
    }
   ],
   "source": [
    "alphas = [0]\n",
    "ourML, q2, alphas_out = hL.h_louvain_community(alphas = alphas, force_alpha_1 = False,\n",
    "                                                change_mode=\"communities\", change_frequency=c)\n",
    "print(\"2-section (ML) (AMI,ARI):\", getAMI_ARI(HG,gt,ourML),\"no of com\", len(ourML))"
   ]
  },
  {
   "cell_type": "markdown",
   "metadata": {},
   "source": [
    "### check for hLouvainBO best"
   ]
  },
  {
   "cell_type": "code",
   "execution_count": 39,
   "metadata": {},
   "outputs": [
    {
     "name": "stdout",
     "output_type": "stream",
     "text": [
      "linear (AMI,ARI): (0.8152257667930622, 0.7105364672604746) no of com 14\n"
     ]
    }
   ],
   "source": [
    "sorted_results = result_df.sort_values(by = [\"qH_lstep\"],  ascending=False)\n",
    "best_A = sorted_results[\"A_lstep\"].tolist()\n",
    "\n",
    "for i in range(hBO.last_step_top_points):\n",
    "    print(\"linear (AMI,ARI):\", getAMI_ARI(HG,gt,best_A[i]),\"no of com\", len(best_A[i]))"
   ]
  },
  {
   "cell_type": "markdown",
   "metadata": {},
   "source": [
    "## Optimizing rho"
   ]
  },
  {
   "cell_type": "code",
   "execution_count": 41,
   "metadata": {},
   "outputs": [],
   "source": [
    "\n",
    "\n",
    "\n",
    "def edges_in_gt(edge_file,comm_file):\n",
    "\n",
    "    with open(comm_file, 'r') as file:\n",
    "        gt = [int(line) for line in file]\n",
    "        A_gt = [x for x in hmod.dict2part({str(i+1):gt[i] for i in range(len(gt))}) if len(x)>0]\n",
    "    with open(edge_file,\"r\") as f:\n",
    "        rd = csv.reader(f)\n",
    "        lines = list(rd)\n",
    "    Edges = []\n",
    "    for line in lines:\n",
    "        Edges.append(set(line))\n",
    "\n",
    "    edge_comm = []    \n",
    "    for e in Edges:\n",
    "        size = len(e)\n",
    "        biggest = Counter([gt[int(i)-1] for i in e]).most_common(1)[0][1]\n",
    "        edge_comm.append({'size': size, 'biggest': biggest, 'ratio': biggest/size})\n",
    "    \n",
    "    cds = {}\n",
    "    \n",
    "    sizes = [len(Edges[i]) for i in range(len(Edges))]\n",
    "    max_sizes = max(sizes)\n",
    "    cds_array = np.zeros((max_sizes+1,max_sizes+1))\n",
    "    for edge in edge_comm:\n",
    "        if 2*edge['biggest'] > edge['size']:\n",
    "            cds_array[edge['biggest'],edge['size']]+=1\n",
    "            if str(edge['biggest'])+\"-\"+str(edge['size']) in cds.keys():\n",
    "                cds[str(edge['biggest'])+\"-\"+str(edge['size'])]+=1\n",
    "            else:\n",
    "                cds[str(edge['biggest'])+\"-\"+str(edge['size'])]=1                            \n",
    "\n",
    "    return cds, cds_array, A_gt\n",
    "\n",
    "\n",
    "def edges_in_partition(edge_file,A,HG):\n",
    "\n",
    "    d = hmod.part2dict(A)\n",
    "    part = [d[str(i+1)] for i in range(len(HG.nodes))]\n",
    "    with open(edge_file,\"r\") as f:\n",
    "        rd = csv.reader(f)\n",
    "        lines = list(rd)\n",
    "    Edges = []\n",
    "    for line in lines:\n",
    "        Edges.append(set(line))\n",
    "\n",
    "    edge_comm = []    \n",
    "    for e in Edges:\n",
    "        size = len(e)\n",
    "        biggest = Counter([part[int(i)-1] for i in e]).most_common(1)[0][1]\n",
    "        edge_comm.append({'size': size, 'biggest': biggest, 'ratio': biggest/size})\n",
    "    \n",
    "    cds = {}\n",
    "    \n",
    "    sizes = [len(Edges[i]) for i in range(len(Edges))]\n",
    "    max_sizes = max(sizes)\n",
    "    cds_array = np.zeros((max_sizes+1,max_sizes+1))\n",
    "    for edge in edge_comm:\n",
    "        if 2*edge['biggest'] > edge['size']:\n",
    "            cds_array[edge['biggest'],edge['size']]+=1\n",
    "            if str(edge['biggest'])+\"-\"+str(edge['size']) in cds.keys():\n",
    "                cds[str(edge['biggest'])+\"-\"+str(edge['size'])]+=1\n",
    "            else:\n",
    "                cds[str(edge['biggest'])+\"-\"+str(edge['size'])]=1                            \n",
    "\n",
    "    return cds, cds_array\n",
    "\n",
    " \n",
    "    \n",
    "def set_weights(nums_edges, rho):\n",
    "    weights = np.zeros((nums_edges.shape[0],nums_edges.shape[1]))\n",
    "\n",
    "    total_sum = nums_edges.sum(axis=0)\n",
    "   # print(total_sum)\n",
    "    for d in range(2,nums_edges.shape[1]):\n",
    "        temp_sum = 0\n",
    "        if total_sum[d] > 0:\n",
    "            for c in np.arange(int(np.floor(d / 2 + 1)), d + 1):\n",
    "                temp_sum +=nums_edges[c,d]\n",
    "                weights[c,d] = (rho + temp_sum/total_sum[d])/(rho+1)\n",
    "    return weights\n"
   ]
  },
  {
   "cell_type": "code",
   "execution_count": 44,
   "metadata": {},
   "outputs": [
    {
     "name": "stdout",
     "output_type": "stream",
     "text": [
      "GT\n",
      "{'2-2': 321, '4-4': 31, '2-3': 98, '3-3': 80, '3-5': 11, '3-4': 33, '5-5': 9, '4-5': 3}\n",
      "[[  0.   0.   0.   0.   0.   0.]\n",
      " [  0.   0.   0.   0.   0.   0.]\n",
      " [  0.   0. 321.  98.   0.   0.]\n",
      " [  0.   0.   0.  80.  33.  11.]\n",
      " [  0.   0.   0.   0.  31.   3.]\n",
      " [  0.   0.   0.   0.   0.   9.]]\n",
      "\n",
      "ML\n",
      "{'2-2': 332, '4-4': 30, '2-3': 93, '3-3': 90, '3-4': 36, '5-5': 10, '3-5': 8, '4-5': 4}\n",
      "[[  0.   0.   0.   0.   0.   0.]\n",
      " [  0.   0.   0.   0.   0.   0.]\n",
      " [  0.   0. 332.  93.   0.   0.]\n",
      " [  0.   0.   0.  90.  36.   8.]\n",
      " [  0.   0.   0.   0.  30.   4.]\n",
      " [  0.   0.   0.   0.   0.  10.]]\n"
     ]
    }
   ],
   "source": [
    "\n",
    "edge_weights_gt, gt_array, A_gt = edges_in_gt(edge_file,comm_file)\n",
    "\n",
    "print(\"GT\")\n",
    "print(edge_weights_gt)\n",
    "        \n",
    "print(gt_array)\n",
    "\n",
    "G = hmod.two_section(HG)\n",
    "G.vs['louvain'] = G.community_multilevel(weights='weight').membership\n",
    "ML = hmod.dict2part({v['name']:v['louvain'] for v in G.vs})\n",
    "\n",
    "print(\"\")\n",
    "print(\"ML\")\n",
    "edge_weights_A, ew_array = edges_in_partition(edge_file,ML,HG)\n",
    "print(edge_weights_A)\n",
    "       \n",
    "print(ew_array)\n",
    "#print(set_weights(ew_array,0))\n",
    "#print(set_weights(ew_array,0.25))\n",
    "#print(set_weights(ew_array,0.5))\n",
    "#print(set_weights(ew_array,0.75))\n",
    "#print(set_weights(ew_array,1))\n",
    "\n"
   ]
  },
  {
   "cell_type": "code",
   "execution_count": 47,
   "metadata": {},
   "outputs": [
    {
     "name": "stdout",
     "output_type": "stream",
     "text": [
      "rho 0.1\n",
      "\n",
      "|   iter    |  target   |     b     |     c     |\n",
      "-------------------------------------------------\n",
      "| \u001b[0m1        \u001b[0m | \u001b[0m0.5035   \u001b[0m | \u001b[0m0.4067   \u001b[0m | \u001b[0m0.7459   \u001b[0m |\n",
      "| \u001b[95m2        \u001b[0m | \u001b[95m0.5039   \u001b[0m | \u001b[95m0.713    \u001b[0m | \u001b[95m0.8387   \u001b[0m |\n",
      "| \u001b[95m3        \u001b[0m | \u001b[95m0.5072   \u001b[0m | \u001b[95m0.4876   \u001b[0m | \u001b[95m0.4912   \u001b[0m |\n",
      "| \u001b[0m4        \u001b[0m | \u001b[0m0.5055   \u001b[0m | \u001b[0m0.663    \u001b[0m | \u001b[0m0.4594   \u001b[0m |\n",
      "| \u001b[95m5        \u001b[0m | \u001b[95m0.5095   \u001b[0m | \u001b[95m0.7731   \u001b[0m | \u001b[95m0.111    \u001b[0m |\n",
      "| \u001b[0m6        \u001b[0m | \u001b[0m0.5088   \u001b[0m | \u001b[0m0.2131   \u001b[0m | \u001b[0m0.3005   \u001b[0m |\n",
      "| \u001b[0m7        \u001b[0m | \u001b[0m0.5088   \u001b[0m | \u001b[0m0.6429   \u001b[0m | \u001b[0m0.2337   \u001b[0m |\n",
      "| \u001b[95m8        \u001b[0m | \u001b[95m0.5096   \u001b[0m | \u001b[95m0.7549   \u001b[0m | \u001b[95m0.1183   \u001b[0m |\n",
      "| \u001b[0m9        \u001b[0m | \u001b[0m0.508    \u001b[0m | \u001b[0m0.5737   \u001b[0m | \u001b[0m0.01     \u001b[0m |\n",
      "| \u001b[0m10       \u001b[0m | \u001b[0m0.508    \u001b[0m | \u001b[0m0.0      \u001b[0m | \u001b[0m0.05918  \u001b[0m |\n",
      "=================================================\n",
      "first step (AMI,ARI): (0.8570234423116372, 0.7438029451785947) no of com 14\n",
      "|   iter    |  target   |     b     |     c     |\n",
      "-------------------------------------------------\n",
      "| \u001b[0m1        \u001b[0m | \u001b[0m0.5105   \u001b[0m | \u001b[0m0.4067   \u001b[0m | \u001b[0m0.7459   \u001b[0m |\n",
      "| \u001b[0m2        \u001b[0m | \u001b[0m0.5101   \u001b[0m | \u001b[0m0.713    \u001b[0m | \u001b[0m0.8387   \u001b[0m |\n",
      "| \u001b[95m3        \u001b[0m | \u001b[95m0.5123   \u001b[0m | \u001b[95m0.4876   \u001b[0m | \u001b[95m0.4912   \u001b[0m |\n",
      "| \u001b[0m4        \u001b[0m | \u001b[0m0.5122   \u001b[0m | \u001b[0m0.663    \u001b[0m | \u001b[0m0.4594   \u001b[0m |\n",
      "| \u001b[95m5        \u001b[0m | \u001b[95m0.5139   \u001b[0m | \u001b[95m0.7731   \u001b[0m | \u001b[95m0.111    \u001b[0m |\n",
      "| \u001b[0m6        \u001b[0m | \u001b[0m0.5118   \u001b[0m | \u001b[0m0.4009   \u001b[0m | \u001b[0m0.01     \u001b[0m |\n",
      "| \u001b[0m7        \u001b[0m | \u001b[0m0.5137   \u001b[0m | \u001b[0m0.6429   \u001b[0m | \u001b[0m0.2337   \u001b[0m |\n",
      "| \u001b[95m8        \u001b[0m | \u001b[95m0.514    \u001b[0m | \u001b[95m0.7622   \u001b[0m | \u001b[95m0.1276   \u001b[0m |\n",
      "| \u001b[0m9        \u001b[0m | \u001b[0m0.512    \u001b[0m | \u001b[0m0.9991   \u001b[0m | \u001b[0m0.2476   \u001b[0m |\n",
      "| \u001b[0m10       \u001b[0m | \u001b[0m0.5118   \u001b[0m | \u001b[0m0.001869 \u001b[0m | \u001b[0m0.342    \u001b[0m |\n",
      "=================================================\n",
      "second step (AMI,ARI): (0.8448916493861686, 0.7524082803870276) no of com 15\n"
     ]
    }
   ],
   "source": [
    "rho = 0.1\n",
    "\n",
    "print(\"rho\", rho)\n",
    "print(\"\")\n",
    "\n",
    "edge_weights_A, ew_array = edges_in_partition(edge_file,ML,HG)\n",
    "\n",
    "hBO.set_params(weights = \"custom\", custom_weights_array = set_weights(ew_array,rho), bomode=\"last_step\")\n",
    "first_step_1_1 = hBO.hLouvain_perform_BO()\n",
    "\n",
    "sorted_results = first_step_1_1.sort_values(by = [\"qH_lstep\"],  ascending=False)\n",
    "best_A = sorted_results[\"A_lstep\"].tolist()\n",
    "\n",
    "for i in range(hBO.last_step_top_points):\n",
    "    print(\"first step (AMI,ARI):\", getAMI_ARI(HG,gt,best_A[i]),\"no of com\", len(best_A[i]))\n",
    "    \n",
    "edge_weights_A, ew_array2 = edges_in_partition(edge_file,best_A[0],HG)\n",
    "\n",
    "hBO.set_params(weights = \"custom\", custom_weights_array = set_weights(ew_array2,rho), bomode=\"last_step\")\n",
    "first_step_1_2 = hBO.hLouvain_perform_BO()\n",
    "sorted_results = first_step_1_2.sort_values(by = [\"qH_lstep\"],  ascending=False)\n",
    "best_A = sorted_results[\"A_lstep\"].tolist()\n",
    "\n",
    "for i in range(hBO.last_step_top_points):\n",
    "    print(\"second step (AMI,ARI):\", getAMI_ARI(HG,gt,best_A[i]),\"no of com\", len(best_A[i]))"
   ]
  },
  {
   "cell_type": "code",
   "execution_count": 50,
   "metadata": {
    "scrolled": true
   },
   "outputs": [
    {
     "name": "stdout",
     "output_type": "stream",
     "text": [
      "strict\n",
      "\n",
      "|   iter    |  target   |     b     |     c     |\n",
      "-------------------------------------------------\n",
      "| \u001b[0m1        \u001b[0m | \u001b[0m0.4574   \u001b[0m | \u001b[0m0.4067   \u001b[0m | \u001b[0m0.7459   \u001b[0m |\n",
      "| \u001b[0m2        \u001b[0m | \u001b[0m0.4326   \u001b[0m | \u001b[0m0.713    \u001b[0m | \u001b[0m0.8387   \u001b[0m |\n",
      "| \u001b[95m3        \u001b[0m | \u001b[95m0.4624   \u001b[0m | \u001b[95m0.4876   \u001b[0m | \u001b[95m0.4912   \u001b[0m |\n",
      "| \u001b[0m4        \u001b[0m | \u001b[0m0.4603   \u001b[0m | \u001b[0m0.663    \u001b[0m | \u001b[0m0.4594   \u001b[0m |\n",
      "| \u001b[95m5        \u001b[0m | \u001b[95m0.4641   \u001b[0m | \u001b[95m0.7731   \u001b[0m | \u001b[95m0.111    \u001b[0m |\n",
      "| \u001b[0m6        \u001b[0m | \u001b[0m0.4619   \u001b[0m | \u001b[0m0.5611   \u001b[0m | \u001b[0m0.2249   \u001b[0m |\n",
      "| \u001b[0m7        \u001b[0m | \u001b[0m0.4624   \u001b[0m | \u001b[0m0.6429   \u001b[0m | \u001b[0m0.2337   \u001b[0m |\n",
      "| \u001b[0m8        \u001b[0m | \u001b[0m0.4636   \u001b[0m | \u001b[0m0.1229   \u001b[0m | \u001b[0m0.5468   \u001b[0m |\n",
      "| \u001b[0m9        \u001b[0m | \u001b[0m0.4637   \u001b[0m | \u001b[0m1.0      \u001b[0m | \u001b[0m0.01     \u001b[0m |\n",
      "| \u001b[0m10       \u001b[0m | \u001b[0m0.4637   \u001b[0m | \u001b[0m0.0      \u001b[0m | \u001b[0m0.8895   \u001b[0m |\n",
      "=================================================\n",
      "strict (AMI,ARI): (0.7766536181751086, 0.5731722095513936) no of com 9\n"
     ]
    }
   ],
   "source": [
    "print(\"strict\")\n",
    "print(\"\")\n",
    "\n",
    "hBO.set_params(bomode=\"last_step\", hmod_type = hmod.strict)\n",
    "strict = hBO.hLouvain_perform_BO()\n",
    "sorted_results = strict.sort_values(by = [\"qH_lstep\"],  ascending=False)\n",
    "best_A = sorted_results[\"A_lstep\"].tolist()\n",
    "\n",
    "for i in range(hBO.last_step_top_points):\n",
    "    print(\"strict (AMI,ARI):\", getAMI_ARI(HG,gt,best_A[i]),\"no of com\", len(best_A[i]))"
   ]
  },
  {
   "cell_type": "code",
   "execution_count": 51,
   "metadata": {
    "scrolled": true
   },
   "outputs": [
    {
     "name": "stdout",
     "output_type": "stream",
     "text": [
      "majority\n",
      "\n",
      "|   iter    |  target   |     b     |     c     |\n",
      "-------------------------------------------------\n",
      "| \u001b[0m1        \u001b[0m | \u001b[0m0.568    \u001b[0m | \u001b[0m0.4067   \u001b[0m | \u001b[0m0.7459   \u001b[0m |\n",
      "| \u001b[0m2        \u001b[0m | \u001b[0m0.5576   \u001b[0m | \u001b[0m0.713    \u001b[0m | \u001b[0m0.8387   \u001b[0m |\n",
      "| \u001b[95m3        \u001b[0m | \u001b[95m0.5718   \u001b[0m | \u001b[95m0.4876   \u001b[0m | \u001b[95m0.4912   \u001b[0m |\n",
      "| \u001b[0m4        \u001b[0m | \u001b[0m0.5668   \u001b[0m | \u001b[0m0.663    \u001b[0m | \u001b[0m0.4594   \u001b[0m |\n",
      "| \u001b[0m5        \u001b[0m | \u001b[0m0.5642   \u001b[0m | \u001b[0m0.7731   \u001b[0m | \u001b[0m0.111    \u001b[0m |\n",
      "| \u001b[0m6        \u001b[0m | \u001b[0m0.5714   \u001b[0m | \u001b[0m0.412    \u001b[0m | \u001b[0m0.5468   \u001b[0m |\n",
      "| \u001b[0m7        \u001b[0m | \u001b[0m0.5672   \u001b[0m | \u001b[0m0.6429   \u001b[0m | \u001b[0m0.2337   \u001b[0m |\n",
      "| \u001b[0m8        \u001b[0m | \u001b[0m0.5681   \u001b[0m | \u001b[0m0.3678   \u001b[0m | \u001b[0m0.359    \u001b[0m |\n",
      "| \u001b[0m9        \u001b[0m | \u001b[0m0.5655   \u001b[0m | \u001b[0m0.08658  \u001b[0m | \u001b[0m0.6995   \u001b[0m |\n",
      "| \u001b[0m10       \u001b[0m | \u001b[0m0.5543   \u001b[0m | \u001b[0m0.9028   \u001b[0m | \u001b[0m0.9486   \u001b[0m |\n",
      "=================================================\n",
      "majority (AMI,ARI): (0.7482871126948113, 0.6445738851555671) no of com 15\n"
     ]
    }
   ],
   "source": [
    "print(\"majority\")\n",
    "print(\"\")\n",
    "\n",
    "\n",
    "hBO.set_params(bomode=\"last_step\", hmod_type = hmod.majority)\n",
    "majority = hBO.hLouvain_perform_BO()\n",
    "\n",
    "sorted_results = majority.sort_values(by = [\"qH_lstep\"],  ascending=False)\n",
    "best_A = sorted_results[\"A_lstep\"].tolist()\n",
    "\n",
    "for i in range(hBO.last_step_top_points):\n",
    "    print(\"majority (AMI,ARI):\", getAMI_ARI(HG,gt,best_A[i]),\"no of com\", len(best_A[i]))"
   ]
  },
  {
   "cell_type": "code",
   "execution_count": null,
   "metadata": {
    "scrolled": true
   },
   "outputs": [],
   "source": [
    "print(\"linear\")\n",
    "print(\"\")\n",
    "\n",
    "hBO.hmod_type = hmod.linear\n",
    "hBO.set_params(bomode=\"last_step\", hmod_type = hmod.linear)\n",
    "linear = hBO.hLouvain_perform_BO()\n",
    "\n",
    "sorted_results = linear.sort_values(by = [\"qH_lstep\"],  ascending=False)\n",
    "best_A = sorted_results[\"A_lstep\"].tolist()\n",
    "\n",
    "for i in range(hBO.last_step_top_points):\n",
    "    print(\"linear (AMI,ARI):\", getAMI_ARI(HG,gt,best_A[i]),\"no of com\", len(best_A[i]))\n",
    "    \n",
    "    "
   ]
  },
  {
   "cell_type": "code",
   "execution_count": null,
   "metadata": {},
   "outputs": [],
   "source": []
  }
 ],
 "metadata": {
  "kernelspec": {
   "display_name": "my-python3-hnx2",
   "language": "python",
   "name": "my-python3-hnx2"
  },
  "language_info": {
   "codemirror_mode": {
    "name": "ipython",
    "version": 3
   },
   "file_extension": ".py",
   "mimetype": "text/x-python",
   "name": "python",
   "nbconvert_exporter": "python",
   "pygments_lexer": "ipython3",
   "version": "3.8.10"
  }
 },
 "nbformat": 4,
 "nbformat_minor": 4
}
